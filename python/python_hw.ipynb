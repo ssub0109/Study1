{
 "cells": [
  {
   "cell_type": "code",
   "execution_count": 4,
   "metadata": {},
   "outputs": [],
   "source": [
    "def split_delimiter(sentence):\n",
    "    PUNCTUATIONMARK = [',','\"',\"'\"]\n",
    "    EXCEPTION = ['.', '?', '!']\n",
    "    sentences = []\n",
    "    tmp = ''\n",
    "    for ch in sentence:\n",
    "        if ch in EXCEPTION:\n",
    "            tmp += ' '\n",
    "            sentences.append(tmp)\n",
    "            tmp = ''\n",
    "        elif ch in PUNCTUATIONMARK:\n",
    "            pass\n",
    "        else:\n",
    "            tmp += ch\n",
    "    return sentences"
   ]
  },
  {
   "cell_type": "code",
   "execution_count": 5,
   "metadata": {},
   "outputs": [],
   "source": [
    "def word_classification(sentences):\n",
    "    words = []\n",
    "    tmp = ''\n",
    "    for ch in sentences:\n",
    "        if ch.isalpha() :\n",
    "            tmp += ch\n",
    "        else:\n",
    "            words.append(tmp)\n",
    "            tmp = ''\n",
    "    \n",
    "    return words\n"
   ]
  },
  {
   "cell_type": "code",
   "execution_count": 6,
   "metadata": {},
   "outputs": [],
   "source": [
    "def compare_word(sentences1, sentences2):\n",
    "    subset = []\n",
    "    tmp =''\n",
    "    for sentence1, sentence2 in zip(sentences1, sentences2):\n",
    "        sentence1 = word_classification(sentence1)\n",
    "        sentence2 = word_classification(sentence2)\n",
    "        for word1, word2 in zip(sentence1, sentence2):\n",
    "            if word1 == word2:\n",
    "                tmp += word1 + ' '\n",
    "                if word1 == sentence1[len(sentence1)-1]:\n",
    "                    subset.append(tmp)\n",
    "                    tmp = ''\n",
    "            else:\n",
    "                subset.append(tmp)\n",
    "                tmp = ''\n",
    "            \n",
    "    return subset"
   ]
  },
  {
   "cell_type": "code",
   "execution_count": 7,
   "metadata": {
    "scrolled": true
   },
   "outputs": [
    {
     "name": "stdout",
     "output_type": "stream",
     "text": [
      "['Hi Hello AnNyung ', ' ', ' ', '  Test text ', ' ', ' ', ' ', ' The Jupyter Notebook is ', 'abcde kifer werewt sadaw dfcaef ']\n",
      "1 Hi Hello AnNyung\n",
      "2 Test text\n",
      "3 The Jupyter Notebook is\n",
      "4 abcde kifer werewt sadaw dfcaef\n"
     ]
    }
   ],
   "source": [
    "f1 = open('C:/Users/chois/Desktop/d3.txt','rt', encoding='UTF8')\n",
    "f2 = open('C:/Users/chois/Desktop/d4.txt','rt', encoding='UTF8')\n",
    "\n",
    "cnt = 1\n",
    "\n",
    "splited1 = split_delimiter(f1.read())\n",
    "splited2 = split_delimiter(f2.read())\n",
    "\n",
    "result = compare_word(splited1, splited2)\n",
    "#print(result)\n",
    "\n",
    "for sentence in result:\n",
    "    if sentence==' ' :\n",
    "        pass\n",
    "    elif ' ' in sentence:\n",
    "        sentence = sentence.strip()\n",
    "        print(cnt,sentence)\n",
    "        cnt += 1\n",
    "    else:\n",
    "        print(cnt, sentence)\n",
    "        cnt += 1"
   ]
  },
  {
   "cell_type": "code",
   "execution_count": null,
   "metadata": {},
   "outputs": [],
   "source": []
  }
 ],
 "metadata": {
  "kernelspec": {
   "display_name": "Python 3",
   "language": "python",
   "name": "python3"
  },
  "language_info": {
   "codemirror_mode": {
    "name": "ipython",
    "version": 3
   },
   "file_extension": ".py",
   "mimetype": "text/x-python",
   "name": "python",
   "nbconvert_exporter": "python",
   "pygments_lexer": "ipython3",
   "version": "3.7.4"
  }
 },
 "nbformat": 4,
 "nbformat_minor": 2
}
