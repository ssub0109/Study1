{
 "cells": [
  {
   "cell_type": "code",
   "execution_count": 89,
   "metadata": {},
   "outputs": [],
   "source": [
    "#1. 수도권(G1)/비수도권(G2)의 가구원수 별 평균 순자산(자산-부채, 단위: 만원)표를 구하여라.\n",
    "import numpy as np\n",
    "def region_average_net_assets(csv_data):\n",
    "    area = ['G1','G2']\n",
    "    cnt = 1\n",
    "    i = 0\n",
    "    print('            1인가구       2인가구       3인가구      4인가구       5인가구이상')\n",
    "    while i<=1:\n",
    "        g_data = csv_data[csv_data[0:,0]==area[i],1:]        \n",
    "        if cnt==1 and area[i]=='G1': print('수도권', end='       ')\n",
    "        if cnt==1 and area[i]=='G2': print('\\n비수도권', end='     ')\n",
    "        if cnt<5: data = g_data[g_data[:,0].astype(int)==cnt,2:].astype(int)\n",
    "        else:\n",
    "            data = g_data[g_data[:,0].astype(int)>=cnt,2:].astype(int)\n",
    "            i += 1\n",
    "            cnt = 0\n",
    "        cnt += 1 \n",
    "        asset = data[:,0]- data[:,1]\n",
    "        print(asset.mean().astype(int), end ='         ')      "
   ]
  },
  {
   "cell_type": "code",
   "execution_count": 90,
   "metadata": {},
   "outputs": [],
   "source": [
    "#2. 가구주 연령별/가구원수별 평균 순자산(자산-부채, 단위: 만원)표를 구하여라.\n",
    "def family_average_net_assets(csv_data):\n",
    "    cnt=1\n",
    "    age = 20\n",
    "    print('              1인가구       2인가구       3인가구         4인가구       5인가구이상')\n",
    "    while age<=60:\n",
    "        if age < 60 :\n",
    "            age_data = csv_data[(csv_data[:,2].astype(int)>=age) & (csv_data[:,2].astype(int)<age+10),1:].astype(int)\n",
    "            print(str(age)+'대 ', end='          ')\n",
    "        else:\n",
    "            age_data = csv_data[csv_data[:,2].astype(int)>=age,1:].astype(int)\n",
    "            print(str(age)+'대 이상', end='      ')\n",
    "        while cnt<=5:\n",
    "            if cnt<5: family_data = age_data[age_data[:,0]==cnt,2:]\n",
    "            if cnt==5: family_data = age_data[age_data[:,0]>=cnt,2:]\n",
    "            asset = family_data[:,0]- family_data[:,1]\n",
    "            print(asset.mean().astype(int),end='          ')\n",
    "            \n",
    "            cnt += 1\n",
    "        print()    \n",
    "        cnt=1\n",
    "        age += 10     "
   ]
  },
  {
   "cell_type": "code",
   "execution_count": 88,
   "metadata": {},
   "outputs": [
    {
     "name": "stdout",
     "output_type": "stream",
     "text": [
      "            1인가구       2인가구       3인가구      4인가구       5인가구이상\n",
      "수도권       17490         44448         49660         53632         60370         \n",
      "비수도권     10990         30802         32053         37865         37447         \n",
      "\n",
      "\n",
      "              1인가구       2인가구       3인가구         4인가구       5인가구이상\n",
      "20대           4754          11468          11950          7925          14551          \n",
      "30대           8488          18861          24389          27594          27375          \n",
      "40대           15865          21337          33170          40675          40685          \n",
      "50대           11916          29254          43534          52297          52902          \n",
      "60대 이상      14221          40954          48716          60094          62211          \n"
     ]
    }
   ],
   "source": [
    "csv_data = np.loadtxt('asset.csv',delimiter=',',dtype = str)\n",
    "region_average_net_assets(csv_data)\n",
    "print('\\n\\n')\n",
    "family_average_net_assets(csv_data)"
   ]
  },
  {
   "cell_type": "code",
   "execution_count": null,
   "metadata": {},
   "outputs": [],
   "source": []
  }
 ],
 "metadata": {
  "kernelspec": {
   "display_name": "Python 3",
   "language": "python",
   "name": "python3"
  },
  "language_info": {
   "codemirror_mode": {
    "name": "ipython",
    "version": 3
   },
   "file_extension": ".py",
   "mimetype": "text/x-python",
   "name": "python",
   "nbconvert_exporter": "python",
   "pygments_lexer": "ipython3",
   "version": "3.7.4"
  }
 },
 "nbformat": 4,
 "nbformat_minor": 2
}
